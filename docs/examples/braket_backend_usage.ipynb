{
 "cells": [
  {
   "cell_type": "markdown",
   "id": "86a72741",
   "metadata": {},
   "source": [
    "# Introduction to pytket-braket"
   ]
  },
{
   "cell_type": "markdown",
   "id": "65ea671c",
   "metadata": {},
   "source": [
    "[Amazon Braket](https://aws.amazon.com/jp/braket/) provided by Amazon Web Services (AWS) allows developers to build, test, and run quantum algorithms on various quantum hardwares and simulators.  \n",
    "`pytket-braket` is an extension to pytket that allows pytket circuits to be run on quantum devices and simulators on Amazon Braket.  \n",
    "\n",
    "`pytket-braket` is available for Python 3.10, 3.11, 3.12 and 3.13, on Linux, MacOS and Windows. To install, run:\n",
    "```\n",
    "pip install pytket-braket\n",
    "```\n",
    "\n",
    "This will install `pytket` if it isn’t already installed, and add new classes and methods into the `pytket.extensions` namespace."
   ]
  },
  {
   "cell_type": "markdown",
   "id": "37dd23e2-36a5-4c35-bdda-ef3272f0a5c2",
   "metadata": {},
   "source": [
    "## Available Braket Backends via `pytket-braket`\n",
    "`BraketBackend` can be used to interface with multiple simulators and quantum processors. `pytket-braket` supports the following quantum devices and simulators.\n",
    "| DeviceName | DeviceType | Local/Cloud | Provider | region | \n",
    "| ---- | ---- | ---- | ---- | ---- |\n",
    "| SV1 | SIMULATOR | Local | Amazon |  |\n",
    "| DM1 | SIMULATOR | Local | Amazon |  |\n",
    "| SV1 | SIMULATOR | Cloud | Amazon | eu-west-2, us-east-1, us-west-1, us-west-2 |\n",
    "| TN1 | SIMULATOR | Cloud | Amazon | eu-west-2, us-east-1, us-west-2 |\n",
    "| DM1 | SIMULATOR | Cloud | Amazon | eu-west-2, us-east-1, us-west-1, us-west-2 |\n",
    "| Ankaa-3 | QPU | Cloud | Rigetti | us-west-1 |\n",
    "| Garnet | QPU | Cloud | IQM | eu-north-1 |\n",
    "| Aria-1 | QPU | Cloud | IonQ | us-east-1 |\n",
    "| Aria-2 | QPU | Cloud | IonQ | us-east-1 |\n",
    "| Forte-1 | QPU | Cloud | IonQ | us-east-1 |\n",
    "| Forte-Enterprise-1 | QPU | Cloud | IonQ | us-east-1 |\n"
   ]
  },
  {
   "cell_type": "markdown",
   "id": "890bb5f7",
   "metadata": {},
   "source": [
    "### Braket Backend Parameters\n",
    "\n",
    " - **local** – use simulator running on local machine, default: False\n",
    "\n",
    " - **local_device** – name of local device (ignored if local=False) – e.g. “braket_sv” (default) or “braket_dm”.\n",
    "\n",
    " - **device** – device name from device ARN (e.g. “ionQdevice”, “Aspen-8”, …), default: “sv1”\n",
    " \n",
    " - **region** - e.g. 'eu-west-2' (for London), 'us-west-1' (for Northern California)\n",
    "\n",
    " - **s3_bucket** – name of S3 bucket to store results **Note:** this should always start with an \"amazon-braket-\" prefix\n",
    "\n",
    " - **s3_folder** – name of folder (“key”) in S3 bucket to store results in\n",
    "\n",
    " - **device_type** – device type from device ARN (e.g. “qpu”), default: “quantum-simulator”\n",
    "\n",
    " - **provider** – provider name from device ARN (e.g. “ionq”, “rigetti”, “oqc”, …), default: “amazon”\n",
    "\n",
    " - **aws_session** – braket AwsSession object, to pass credentials in if not configured on local machine"
   ]
  },
  {
   "cell_type": "markdown",
   "id": "e2d730cb",
   "metadata": {},
   "source": [
    "Lets use a simple GHZ circuit to demonstrate some features of the ``BraketBackend``. "
   ]
  },
  {
   "cell_type": "code",
   "execution_count": null,
   "id": "cfdce69a",
   "metadata": {},
   "outputs": [],
   "source": [
    "from pytket import Circuit\n",
    "\n",
    "def build_ghz_circ(n_qubits: int) -> Circuit:\n",
    "    \"\"\"\n",
    "    Returns a circuit that prepares the n qubit GHZ state.\n",
    "    \"\"\"\n",
    "    circ = Circuit(n_qubits)\n",
    "    circ.H(0)\n",
    "    for k in range(1, n_qubits):\n",
    "        circ.CX(k - 1, k)\n",
    "    circ.measure_all()\n",
    "    return circ"
   ]
  },
  {
   "cell_type": "markdown",
   "id": "71877d0e-42dc-441f-8084-f928bbc7e3cb",
   "metadata": {},
   "source": [
    "$$ \n",
    "\\begin{equation}\n",
    "| \\psi \\rangle_{n} = \\frac{1}{\\sqrt{2}} \\big( |0\\rangle^{\\otimes n} + |1\\rangle^{\\otimes n} \\big)\n",
    "\\end{equation}\n",
    "$$"
   ]
  },
  {
   "cell_type": "code",
   "execution_count": null,
   "id": "71f40e53",
   "metadata": {},
   "outputs": [],
   "source": [
    "circ1 = build_ghz_circ(3) # define a 3 qubit GHZ circuit"
   ]
  },
  {
   "cell_type": "code",
   "execution_count": null,
   "id": "dd433fbd-6a3e-4ca1-aee8-693ecbdee94e",
   "metadata": {},
   "outputs": [],
   "source": [
    "from pytket.circuit.display import render_circuit_jupyter\n",
    "render_circuit_jupyter(circ1)"
   ]
  },
  {
   "cell_type": "markdown",
   "id": "ab6faaf6",
   "metadata": {},
   "source": [
    "The pytket-braket extension offers the ability to convert circuits from a TKET format to a braket format and vice versa.\n",
    "\n",
    "This is done using the ``tk_to_braket`` and ``braket_to_tk`` functions."
   ]
  },
  {
   "cell_type": "code",
   "execution_count": null,
   "id": "b12d22fc",
   "metadata": {},
   "outputs": [],
   "source": [
    "from pytket.extensions.braket import tk_to_braket, braket_to_tk"
   ]
  },
  {
   "cell_type": "code",
   "execution_count": null,
   "id": "3bcf576e",
   "metadata": {},
   "outputs": [],
   "source": [
    "bk_circ = tk_to_braket(circ1) # convert from a TKET circuit to a braket circuit.\n",
    "print(bk_circ[0])"
   ]
  },
  {
   "cell_type": "code",
   "execution_count": null,
   "id": "3cf55efa",
   "metadata": {},
   "outputs": [],
   "source": [
    "from pytket.extensions.braket import BraketBackend # import our BraketBackend"
   ]
  },
  {
   "cell_type": "markdown",
   "id": "87377171-a8f1-4fd6-b2bf-e4a70b884a1b",
   "metadata": {},
   "source": [
    "### Local simulator\n",
    "If we set ``local=True`` then the only available simulator is the statevector simulator SV1. If used locally this can support a maximum of 26 qubits. If instead we use access this simulator remotely it can support up to 34 qubits."
   ]
  },
  {
   "cell_type": "code",
   "execution_count": null,
   "id": "51e64cbd-d347-4682-ac94-1b01203ba16f",
   "metadata": {},
   "outputs": [],
   "source": [
    "aws_backend_local = BraketBackend(local=True) #initialise local simulator"
   ]
  },
  {
   "cell_type": "markdown",
   "id": "dabf592c",
   "metadata": {},
   "source": [
    "Lets use a simple GHZ circuit to demonstrate backends available in pytket-braket."
   ]
  },
  {
   "cell_type": "code",
   "execution_count": null,
   "id": "26b273da-5580-4810-85ff-067fcca80811",
   "metadata": {},
   "outputs": [],
   "source": [
    "aws_backend_local.backend_info # lets look at the device info and supported operations"
   ]
  },
  {
   "cell_type": "markdown",
   "id": "9adeb3bf",
   "metadata": {},
   "source": [
    "Lets now compile our three qubit circuit to a form that can be executed on the local statevector simulator."
   ]
  },
  {
   "cell_type": "code",
   "execution_count": null,
   "id": "4744309c-590e-4154-8520-b83dbb1dd995",
   "metadata": {},
   "outputs": [],
   "source": [
    "compiled_circ = aws_backend_local.get_compiled_circuit(circ1) \n",
    "handle = aws_backend_local.process_circuit(compiled_circ)\n",
    "result = aws_backend_local.get_result(handle)"
   ]
  },
  {
   "cell_type": "code",
   "execution_count": null,
   "id": "7d690834-266e-486b-a626-64ee4dd37643",
   "metadata": {},
   "outputs": [],
   "source": [
    "result # view our entire BackendResult Object - our statevector and density matrix will be calculated"
   ]
  },
  {
   "cell_type": "code",
   "execution_count": null,
   "id": "4cad0b42-55d2-4d75-b107-74ee8bd11360",
   "metadata": {},
   "outputs": [],
   "source": [
    "result.get_state() # our statevector - equal to the GHZ state up to a global phase"
   ]
  },
  {
   "cell_type": "markdown",
   "id": "9a886c54-5b82-4c81-92ce-d0eb69ea6fa7",
   "metadata": {},
   "source": [
    "If we add some measurements to our circuit and an ``n_shots`` parameter to ``process_circuit`` then we can get shots based results instead. Our result is obtained by randomly sampling the statevector."
   ]
  },
  {
   "cell_type": "code",
   "execution_count": null,
   "id": "3e9c6c69-b708-4d74-b296-866bc5323898",
   "metadata": {},
   "outputs": [],
   "source": [
    "handle2 = aws_backend_local.process_circuit(compiled_circ, n_shots=1000)\n",
    "result2 = aws_backend_local.get_result(handle2)"
   ]
  },
  {
   "cell_type": "code",
   "execution_count": null,
   "id": "5dc3e17e-030b-48a6-932f-2f3f57d9dc40",
   "metadata": {},
   "outputs": [],
   "source": [
    "result2.get_counts()"
   ]
  },
  {
   "cell_type": "markdown",
   "id": "e0338d96",
   "metadata": {},
   "source": [
    "We see that we have a roughly 50:50 distribution of shots in our two basis states as we would expect from measuring the GHZ state."
   ]
  },
  {
   "cell_type": "markdown",
   "id": "e3ec3f2d-2b4a-4fbe-8d8e-0d858830b5ba",
   "metadata": {},
   "source": [
    "### Cloud simulator\n",
    "Lets now take a look at how to use access remote cloud simulators with ``pytket-braket`` this requires passing additional parameters to the ``BraketBackend`` constructor. We have to specify a region as well as an s3 bucket and folder where our results will be stored.  \n",
    "The bucket name must start with the characters ``amazon-braket-``. For inctance, ``amazon-braket-ABCDEFG``.\n",
    "\n",
    "**Note:** The quantum devices that are available to use will depend on the region specified.  \n",
    "Please see [documentation](https://eu-north-1.console.aws.amazon.com/braket/home?region=eu-north-1#/devices).\n",
    "\n",
    "- Region for SV1  \n",
    "eu-west-2, us-east-1, us-west-1, us-west-2\n",
    "- Region for TN1  \n",
    "eu-west-2, us-east-1, us-west-2\n",
    "- Region for DM1  \n",
    "eu-west-2, us-east-1, us-west-1, us-west-2"
   ]
  },
  {
   "cell_type": "code",
   "execution_count": null,
   "id": "c6c38f77-1813-4edb-bae1-a9d676d7290e",
   "metadata": {},
   "outputs": [],
   "source": [
    "my_s3_bucket = 'amazon-braket-XXXXXXXXXX'\n",
    "my_region = 'us-west-2'"
   ]
  },
  {
   "cell_type": "markdown",
   "id": "14396da7",
   "metadata": {},
   "source": [
    "#### AWS credentials\n",
    "You need to prepare your AWS credentials. See [AWS security credentials](https://docs.aws.amazon.com/IAM/latest/UserGuide/secrity-creds.html).  \n",
    "We now read in your AWS credentials namely ``aws_access_key_id``, ``aws_secret_access_key``, ``s3_name``, ``bucket_key`` from the file ``aws-key`` in the folder."
   ]
  },
  {
   "cell_type": "code",
   "execution_count": null,
   "id": "fec7a3f7",
   "metadata": {},
   "outputs": [],
   "source": [
    "# Create a file named ``aws-key`` in the folder to store access keys and other information, then read it\n",
    "path = 'aws-key'\n",
    "f = open(path)\n",
    "aws_access_key_id, aws_secret_access_key, s3_name, bucket_key= [s.strip() for s in f.readlines()]\n",
    "f.close()"
   ]
  },
  {
   "cell_type": "markdown",
   "id": "bc41bce1-0789-417d-b20f-a9a6a3e1b927",
   "metadata": {},
   "source": [
    "Create AwsSession using your AWS credentials."
   ]
  },
  {
   "cell_type": "code",
   "execution_count": null,
   "id": "a35a853f-4723-4b8a-906e-e3285c9daade",
   "metadata": {},
   "outputs": [],
   "source": [
    "import boto3\n",
    "from braket.aws.aws_session import AwsSession\n",
    "my_boto_session = boto3.Session(aws_access_key_id=aws_access_key_id, aws_secret_access_key=aws_secret_access_key, region_name=my_region)\n",
    "my_aws_session = AwsSession(boto_session=my_boto_session) # initialise an AwsSession"
   ]
  },
  {
   "cell_type": "code",
   "execution_count": null,
   "id": "054da6a2",
   "metadata": {},
   "outputs": [],
   "source": [
    "# view the devices and simulators available in the us-west-1 region\n",
    "my_aws_session.search_devices()"
   ]
  },
  {
   "cell_type": "markdown",
   "id": "3e4dfac3",
   "metadata": {},
   "source": [
    "Lets initialise the tensor network simulator TN1. This is done by passing the ``device``, ``device_type`` and ``provider`` arguements to ``BraketBackend`` as they appear above.\n",
    "\n",
    "This is a remote simulator that can simulate circuits of up to 50 qubits. This simulator uses tensor network contraction instead of the usual method of statevector simulation. This is especially effective for sparse quantum circuits. To read more about how TN1 works read the [documentation](https://docs.aws.amazon.com/braket/latest/developerguide/braket-devices.html#braket-simulator-tn1)."
   ]
  },
  {
   "cell_type": "code",
   "execution_count": null,
   "id": "e0e2de03",
   "metadata": {},
   "outputs": [],
   "source": [
    "aws_backend = BraketBackend(local=False,\n",
    "                            device='tn1',\n",
    "                            s3_bucket=s3_name,\n",
    "                            s3_folder=bucket_key,\n",
    "                            device_type='quantum-simulator',\n",
    "                            provider='amazon',\n",
    "                            aws_session=my_aws_session)"
   ]
  },
  {
   "cell_type": "code",
   "execution_count": null,
   "id": "9f51d92f-4700-4781-b8c3-0f043aea9d8c",
   "metadata": {},
   "outputs": [],
   "source": [
    "from pytket.circuit.display import render_circuit_jupyter\n",
    "\n",
    "ghz_circ = build_ghz_circ(3)\n",
    "compiled_tn_circ = aws_backend.get_compiled_circuit(ghz_circ)\n",
    "render_circuit_jupyter(compiled_tn_circ)"
   ]
  },
  {
   "cell_type": "code",
   "execution_count": null,
   "id": "bf461729-b9c3-4a75-b417-3e024e437dc8",
   "metadata": {},
   "outputs": [],
   "source": [
    "handle = aws_backend.process_circuit(compiled_tn_circ, n_shots=100)\n",
    "result = aws_backend.get_result(handle)"
   ]
  },
  {
   "cell_type": "code",
   "execution_count": null,
   "id": "40110e43-4c69-471e-aab6-30a2109ee94e",
   "metadata": {},
   "outputs": [],
   "source": [
    "result.get_counts()"
   ]
  },
  {
   "cell_type": "markdown",
   "id": "e5efaa6a",
   "metadata": {},
   "source": [
    "### Rigetti device\n",
    "Lets demonstrate accessing a real quantum processor with the ``BraketBackend``. We will use the ``Ankaa-3`` device from Rigetti. This is a superconducting device that can run circuits of up to 82 qubits."
   ]
  },
  {
   "cell_type": "markdown",
   "id": "9b107fef-f6d7-4a88-b98d-d71ae11f6456",
   "metadata": {},
   "source": [
    "**Note:** You need to set the option ``region_name`` of ``AwsSession`` for Rigetti device again."
   ]
  },
  {
   "cell_type": "code",
   "execution_count": null,
   "id": "c764355c-981f-49f3-bb54-e98414fb3aee",
   "metadata": {},
   "outputs": [],
   "source": [
    "my_region = 'us-west-1' #Rigetti device region"
   ]
  },
  {
   "cell_type": "code",
   "execution_count": null,
   "id": "c995dd7a-f013-4494-bc2c-3adfe6d499da",
   "metadata": {},
   "outputs": [],
   "source": [
    "my_boto_session = boto3.Session(aws_access_key_id=aws_access_key_id, aws_secret_access_key=aws_secret_access_key, region_name=my_region)\n",
    "my_aws_session = AwsSession(boto_session=my_boto_session) # initialise an AwsSession"
   ]
  },
  {
   "cell_type": "markdown",
   "id": "87fc9e67-2e11-4ed9-bbd9-ce4a638622a3",
   "metadata": {},
   "source": [
    "Set backend as follows.  "
   ]
  },
  {
   "cell_type": "code",
   "execution_count": null,
   "id": "d49dacd2-212d-41cc-a976-aa5fd95cfabd",
   "metadata": {},
   "outputs": [],
   "source": [
    "#initialise our BraketBackend for the Rigetti device\n",
    "rigetti_backend = BraketBackend(local=False,\n",
    "                                   region=my_region,\n",
    "                                  device='Ankaa-3',\n",
    "                                   s3_bucket=s3_name,\n",
    "                                   s3_folder=bucket_key,\n",
    "                                   device_type='qpu',\n",
    "                                  provider='rigetti',\n",
    "                                   aws_session=my_aws_session)"
   ]
  },
  {
   "cell_type": "code",
   "execution_count": null,
   "id": "321458ce-ce91-448d-bc92-c40034850789",
   "metadata": {},
   "outputs": [],
   "source": [
    "# define a circuit to compile to the Ankaa-3 device\n",
    "circ = build_ghz_circ(3)"
   ]
  },
  {
   "cell_type": "code",
   "execution_count": null,
   "id": "1298a3f6-c8be-44a3-939a-8f8b2f4928bf",
   "metadata": {},
   "outputs": [],
   "source": [
    "render_circuit_jupyter(circ)"
   ]
  },
  {
   "cell_type": "code",
   "execution_count": null,
   "id": "d11d8bef-095d-4559-8835-dfb655c64a98",
   "metadata": {},
   "outputs": [],
   "source": [
    "rigetti_backend.backend_info.gate_set"
   ]
  },
  {
   "cell_type": "code",
   "execution_count": null,
   "id": "3f147b76-8af0-470e-85b2-ef7529c0ff16",
   "metadata": {},
   "outputs": [],
   "source": [
    "rigetti_backend.required_predicates"
   ]
  },
  {
   "cell_type": "code",
   "execution_count": null,
   "id": "fa5633e5-af60-4ff6-90ef-15f04bab1d21",
   "metadata": {},
   "outputs": [],
   "source": [
    "rigetti_compiled_circ = rigetti_backend.get_compiled_circuit(circ)\n",
    "print(\"Is the circuit valid?\", rigetti_backend.valid_circuit(rigetti_compiled_circ))\n",
    "render_circuit_jupyter(rigetti_compiled_circ)"
   ]
  },
  {
   "cell_type": "code",
   "execution_count": null,
   "id": "79d31d5b-3957-48d5-b958-a9e1e80d0c06",
   "metadata": {},
   "outputs": [],
   "source": [
    "rigetti_handle = rigetti_backend.process_circuit(rigetti_compiled_circ, n_shots=10)"
   ]
  },
  {
   "cell_type": "code",
   "execution_count": null,
   "id": "bd8c942d-a6f3-4771-9366-f9860e05f9b1",
   "metadata": {},
   "outputs": [],
   "source": [
    "rigetti_result = rigetti_backend.get_result(rigetti_handle)\n",
    "rigetti_result.get_counts()"
   ]
  },
  {
   "cell_type": "markdown",
   "id": "40c89ebb",
   "metadata": {},
   "source": [
    "### IQM device\n",
    "When you use the IQM device, set backend as follows.  \n",
    "**Note:** You need to set the option ``region_name`` of ``AwsSession`` for IQM device again."
   ]
  },
  {
   "cell_type": "code",
   "execution_count": null,
   "id": "3f33903e-26a0-46d0-8d85-8252b6e1798b",
   "metadata": {},
   "outputs": [],
   "source": [
    "#my_region = 'us-west-1' #Rigetti device region\n",
    "#my_region = 'us-east-1' #IonQ device region\n",
    "my_region = 'eu-north-1' #IQM device region\n",
    "my_boto_session = boto3.Session(aws_access_key_id=aws_access_key_id, aws_secret_access_key=aws_secret_access_key,\n",
    "region_name=my_region)\n",
    "my_aws_session = AwsSession(boto_session=my_boto_session)"
   ]
  },
  {
   "cell_type": "code",
   "execution_count": null,
   "id": "8fb88072-f265-4e58-b4cb-8374597c8aad",
   "metadata": {},
   "outputs": [],
   "source": [
    "iqm_backend = BraketBackend(local=False,\n",
    "                                  device='Garnet',\n",
    "                                  region=my_region,\n",
    "                                   s3_bucket=s3_name,\n",
    "                                   s3_folder=bucket_key,\n",
    "                                   device_type='qpu',\n",
    "                                  provider='iqm',\n",
    "                                   aws_session=my_aws_session)"
   ]
  },
  {
   "cell_type": "code",
   "execution_count": null,
   "id": "dbd09a2a-cdd1-45d7-8716-1f055022b7d0",
   "metadata": {},
   "outputs": [],
   "source": [
    "iqm_compiled_circ = iqm_backend.get_compiled_circuit(circ)\n",
    "iqm_handle = iqm_backend.process_circuit(iqm_compiled_circ, n_shots=10)"
   ]
  },
  {
   "cell_type": "code",
   "execution_count": null,
   "id": "60659aae-244b-4366-8ac8-4ee82618e0dc",
   "metadata": {},
   "outputs": [],
   "source": [
    "iqm_result = iqm_backend.get_result(iqm_handle)\n",
    "iqm_result.get_counts()"
   ]
  },
  {
   "cell_type": "markdown",
   "id": "b54ba979-e78a-40b6-b573-9f0d17bb494a",
   "metadata": {},
   "source": [
    "### IonQ device\n",
    "When you use the IonQ device, set backend as follows.\n",
    "**Note:** You need to set the option ``region_name`` of ``AwsSession`` for IonQ device again."
   ]
  },
  {
   "cell_type": "code",
   "execution_count": null,
   "id": "8d3d57d3-db43-420b-8756-668ef94b7b74",
   "metadata": {},
   "outputs": [],
   "source": [
    "#my_region = 'us-west-1' #Rigetti device region\n",
    "my_region = 'us-east-1' #IonQ device region\n",
    "#my_region = 'eu-north-1' #IQM device region\n",
    "my_boto_session = boto3.Session(aws_access_key_id=aws_access_key_id, aws_secret_access_key=aws_secret_access_key,region_name=my_region)\n",
    "my_aws_session = AwsSession(boto_session=my_boto_session)"
   ]
  },
  {
   "cell_type": "code",
   "execution_count": null,
   "id": "063ca4c0-9322-46b6-a1d8-e0886c4c3ccc",
   "metadata": {},
   "outputs": [],
   "source": [
    "ionq_backend = BraketBackend(local=False,\n",
    "#                                  device='Aria-1',\n",
    "#                                  device='Aria-2',\n",
    "                                  device='Forte-1',\n",
    "#                                  device='Forte-Enterprise-1',\n",
    "                                  region=my_region,\n",
    "                                   s3_bucket=s3_name,\n",
    "                                   s3_folder=bucket_key,\n",
    "                                   device_type='qpu',\n",
    "                                  provider='ionq',\n",
    "                                   aws_session=my_aws_session)"
   ]
  },
  {
   "cell_type": "code",
   "execution_count": null,
   "id": "619ad9a8-b5ee-4267-9295-679ac02af2d1",
   "metadata": {},
   "outputs": [],
   "source": [
    "ionq_compiled_circ = ionq_backend.get_compiled_circuit(circ)\n",
    "ionq_handle = ionq_backend.process_circuit(ionq_compiled_circ, n_shots=10)"
   ]
  },
  {
   "cell_type": "code",
   "execution_count": null,
   "id": "c728d9ec-dd5d-4687-905b-0b236453e7da",
   "metadata": {},
   "outputs": [],
   "source": [
    "ionq_result = ionq_backend.get_result(ionq_handle)\n",
    "ionq_result.get_counts()"
   ]
  },
  {
   "cell_type": "code",
   "execution_count": null,
   "id": "7bedce51-62b0-4e9d-b87d-61680bd53411",
   "metadata": {},
   "outputs": [],
   "source": []
  }
 ],
 "metadata": {
  "kernelspec": {
   "display_name": "Python 3 (ipykernel)",
   "language": "python",
   "name": "python3"
  },
  "language_info": {
   "codemirror_mode": {
    "name": "ipython",
    "version": 3
   },
   "file_extension": ".py",
   "mimetype": "text/x-python",
   "name": "python",
   "nbconvert_exporter": "python",
   "pygments_lexer": "ipython3",
   "version": "3.12.9"
  },
  "vscode": {
   "interpreter": {
    "hash": "40d3a090f54c6569ab1632332b64b2c03c39dcf918b08424e98f38b5ae0af88f"
   }
  }
 },
 "nbformat": 4,
 "nbformat_minor": 5
}
